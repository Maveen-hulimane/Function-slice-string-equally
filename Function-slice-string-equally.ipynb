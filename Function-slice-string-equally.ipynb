{
 "cells": [
  {
   "cell_type": "code",
   "execution_count": null,
   "metadata": {},
   "outputs": [],
   "source": [
    "# write a code to provide no of equal slice which can be done on the provided string for example 'abcabcabc' \n",
    "# can be sliced into 3 equal parts each part will be a sub string 'abc'\n",
    "# similarly 'ababcababc' can only be sliced into 2 equal parts each part will be a sub string 'ababc' \n",
    "\n",
    "# Test cases\n",
    "# 1. abababab - 4\n",
    "# 2. abcabcabccabcabcabcc - 2\n",
    "# 3. abcabcabc - 2"
   ]
  },
  {
   "cell_type": "code",
   "execution_count": 2,
   "metadata": {},
   "outputs": [],
   "source": [
    "def solution(s):\n",
    "    def check_sub_str(ss):    #function to find the patern\n",
    "        flag=1\n",
    "        while flag==1:\n",
    "            i=0\n",
    "            while i<len(s):\n",
    "                if(ss == s[i:i+len(ss)]):\n",
    "                    i+=len(ss)\n",
    "                    flag=0\n",
    "                else:\n",
    "                    flag=1\n",
    "                    ss=s[0:i+1]\n",
    "                    break\n",
    "        return(ss)\n",
    "    # finding the 1st sub string which has repeated atleast once continously in the main string\n",
    "    a=[]\n",
    "    for i in range(len(s)):\n",
    "        a.append(s[i])\n",
    "        if (a==list(s[i+1:i+1+len(a)])):\n",
    "            break\n",
    "    sub_str=''.join(a)\n",
    "    str_pat = check_sub_str(sub_str)\n",
    "#   code to count\n",
    "    result=0\n",
    "    a_len=len(str_pat)\n",
    "    count = 0\n",
    "    for i in s:\n",
    "        if s[count:count+a_len] == str_pat:\n",
    "            result+=1\n",
    "            count+=a_len\n",
    "        else:\n",
    "            count+=1\n",
    "    return result"
   ]
  },
  {
   "cell_type": "code",
   "execution_count": 3,
   "metadata": {},
   "outputs": [
    {
     "data": {
      "text/plain": [
       "2"
      ]
     },
     "execution_count": 3,
     "metadata": {},
     "output_type": "execute_result"
    }
   ],
   "source": [
    "solution('abcabcabccabcabcabcc')"
   ]
  },
  {
   "cell_type": "code",
   "execution_count": null,
   "metadata": {},
   "outputs": [],
   "source": []
  }
 ],
 "metadata": {
  "kernelspec": {
   "display_name": "Python 3",
   "language": "python",
   "name": "python3"
  },
  "language_info": {
   "codemirror_mode": {
    "name": "ipython",
    "version": 3
   },
   "file_extension": ".py",
   "mimetype": "text/x-python",
   "name": "python",
   "nbconvert_exporter": "python",
   "pygments_lexer": "ipython3",
   "version": "3.7.9"
  }
 },
 "nbformat": 4,
 "nbformat_minor": 4
}
